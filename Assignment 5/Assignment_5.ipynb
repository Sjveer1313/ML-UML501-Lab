{
  "nbformat": 4,
  "nbformat_minor": 0,
  "metadata": {
    "colab": {
      "provenance": []
    },
    "kernelspec": {
      "name": "python3",
      "display_name": "Python 3"
    },
    "language_info": {
      "name": "python"
    }
  },
  "cells": [
    {
      "cell_type": "markdown",
      "source": [
        "# Assignment 5"
      ],
      "metadata": {
        "id": "XDql2wSWXvyQ"
      }
    },
    {
      "cell_type": "markdown",
      "source": [
        "### Importing Libraries"
      ],
      "metadata": {
        "id": "rhe4yE1MbhHo"
      }
    },
    {
      "cell_type": "code",
      "execution_count": 31,
      "metadata": {
        "id": "Si6IxWrwVAVU"
      },
      "outputs": [],
      "source": [
        "import pandas as pd\n",
        "import matplotlib.pyplot as plt\n",
        "import numpy as np\n",
        "from sklearn.model_selection import train_test_split\n",
        "from sklearn.metrics import r2_score, accuracy_score\n",
        "import itertools\n",
        "from sklearn.preprocessing import StandardScaler, LabelEncoder\n",
        "from sklearn.linear_model import LinearRegression, Ridge, Lasso\n",
        "from sklearn.linear_model import RidgeCV, LassoCV"
      ]
    },
    {
      "cell_type": "markdown",
      "source": [
        "# Q1."
      ],
      "metadata": {
        "id": "Q_B9RCnkfScK"
      }
    },
    {
      "cell_type": "markdown",
      "source": [
        "### Set a random seed for reproducibility & Defining parameters"
      ],
      "metadata": {
        "id": "1f6Fj9pYbeen"
      }
    },
    {
      "cell_type": "code",
      "source": [
        "np.random.seed(42)\n",
        "n_samples = 500      # number of data points\n",
        "n_features = 7       # number of features"
      ],
      "metadata": {
        "id": "CKWMEpDrbYKg"
      },
      "execution_count": 2,
      "outputs": []
    },
    {
      "cell_type": "markdown",
      "source": [
        "### Create a covariance matrix to make features correlated"
      ],
      "metadata": {
        "id": "K9ZgOWL-ddYy"
      }
    },
    {
      "cell_type": "code",
      "source": [
        "base_corr = 0.9\n",
        "cov = np.full((n_features, n_features), base_corr)\n",
        "np.fill_diagonal(cov, 1.0)  # diagonal = 1 (self-correlation)"
      ],
      "metadata": {
        "id": "4KLlXyE9bUwX"
      },
      "execution_count": 3,
      "outputs": []
    },
    {
      "cell_type": "markdown",
      "source": [
        "### Generate multivariate normal data (highly correlated)"
      ],
      "metadata": {
        "id": "HPTl8noRdgcG"
      }
    },
    {
      "cell_type": "code",
      "source": [
        "mean = np.zeros(n_features)\n",
        "X = np.random.multivariate_normal(mean, cov, size=n_samples)"
      ],
      "metadata": {
        "id": "eXQrP7Ukbyde"
      },
      "execution_count": 4,
      "outputs": []
    },
    {
      "cell_type": "markdown",
      "source": [
        "### Define true coefficients and bias"
      ],
      "metadata": {
        "id": "oZUr-32rdjh6"
      }
    },
    {
      "cell_type": "code",
      "source": [
        "true_weights = np.array([2.5, -1.8, 1.2, 0.8, 0.5, 1.5, -0.7])\n",
        "bias = 3.0"
      ],
      "metadata": {
        "id": "13DeAQLgb3Ji"
      },
      "execution_count": 5,
      "outputs": []
    },
    {
      "cell_type": "markdown",
      "source": [
        "### Generate target variable with some noise They define how the target variable (y) is generated from your features (X) using a linear relationship + randomness"
      ],
      "metadata": {
        "id": "OQHGRjVfdnL0"
      }
    },
    {
      "cell_type": "code",
      "source": [
        "noise = np.random.normal(0, 1.5, size=n_samples)\n",
        "y = X.dot(true_weights) + bias + noise"
      ],
      "metadata": {
        "id": "4YeBPKbPdA3s"
      },
      "execution_count": 6,
      "outputs": []
    },
    {
      "cell_type": "markdown",
      "source": [
        "### Create DataFrame"
      ],
      "metadata": {
        "id": "2nYGztZydt3N"
      }
    },
    {
      "cell_type": "code",
      "source": [
        "columns = [f'Feature_{i+1}' for i in range(n_features)]\n",
        "df = pd.DataFrame(X, columns=columns)\n",
        "df['Target'] = y"
      ],
      "metadata": {
        "id": "rrK31ZSwdFTy"
      },
      "execution_count": 7,
      "outputs": []
    },
    {
      "cell_type": "markdown",
      "source": [
        "### Display correlation matrix"
      ],
      "metadata": {
        "id": "nRwF_s2Adxs4"
      }
    },
    {
      "cell_type": "code",
      "source": [
        "print(\"Feature Correlation Matrix:\")\n",
        "print(df.corr())"
      ],
      "metadata": {
        "colab": {
          "base_uri": "https://localhost:8080/"
        },
        "id": "K3Y-rRs5dHvJ",
        "outputId": "1bea18b3-a2ff-40ad-f2cb-699be4a670b8"
      },
      "execution_count": 8,
      "outputs": [
        {
          "output_type": "stream",
          "name": "stdout",
          "text": [
            "Feature Correlation Matrix:\n",
            "           Feature_1  Feature_2  Feature_3  Feature_4  Feature_5  Feature_6  \\\n",
            "Feature_1   1.000000   0.897925   0.899279   0.895184   0.894056   0.894905   \n",
            "Feature_2   0.897925   1.000000   0.904170   0.914528   0.902848   0.916318   \n",
            "Feature_3   0.899279   0.904170   1.000000   0.906929   0.890779   0.892586   \n",
            "Feature_4   0.895184   0.914528   0.906929   1.000000   0.902122   0.895103   \n",
            "Feature_5   0.894056   0.902848   0.890779   0.902122   1.000000   0.889743   \n",
            "Feature_6   0.894905   0.916318   0.892586   0.895103   0.889743   1.000000   \n",
            "Feature_7   0.903157   0.907611   0.905746   0.902690   0.903508   0.895431   \n",
            "Target      0.903654   0.807414   0.869086   0.854551   0.850811   0.871616   \n",
            "\n",
            "           Feature_7    Target  \n",
            "Feature_1   0.903157  0.903654  \n",
            "Feature_2   0.907611  0.807414  \n",
            "Feature_3   0.905746  0.869086  \n",
            "Feature_4   0.902690  0.854551  \n",
            "Feature_5   0.903508  0.850811  \n",
            "Feature_6   0.895431  0.871616  \n",
            "Feature_7   1.000000  0.829680  \n",
            "Target      0.829680  1.000000  \n"
          ]
        }
      ]
    },
    {
      "cell_type": "markdown",
      "source": [
        "### Save dataset"
      ],
      "metadata": {
        "id": "cb42TbyBdy5k"
      }
    },
    {
      "cell_type": "code",
      "source": [
        "df.to_csv(\"highly_correlated_dataset.csv\", index=False)\n",
        "print(\"\\nDataset saved as 'highly_correlated_dataset.csv'\")"
      ],
      "metadata": {
        "colab": {
          "base_uri": "https://localhost:8080/"
        },
        "id": "B_Q-HnxudLhg",
        "outputId": "398e6b6f-404a-40d8-e324-d354d57a2745"
      },
      "execution_count": 9,
      "outputs": [
        {
          "output_type": "stream",
          "name": "stdout",
          "text": [
            "\n",
            "Dataset saved as 'highly_correlated_dataset.csv'\n"
          ]
        }
      ]
    },
    {
      "cell_type": "markdown",
      "source": [
        "### Implement Ridge Regression using Gradient Descent"
      ],
      "metadata": {
        "id": "kR7eE2DqcJxn"
      }
    },
    {
      "cell_type": "code",
      "source": [
        "def ridge_regression_gd(X, y, lr=0.01, reg_lambda=1.0, epochs=1000):\n",
        "    m, n = X.shape\n",
        "    X_b = np.c_[np.ones((m, 1)), X]  # Add bias term\n",
        "    w = np.zeros(n + 1)              # Initialize weights (including bias)\n",
        "\n",
        "    for epoch in range(epochs):\n",
        "        y_pred = X_b.dot(w)\n",
        "        error = y_pred - y\n",
        "        # Gradient includes regularization for all weights except bias\n",
        "        gradient = (1/m) * X_b.T.dot(error) + (reg_lambda/m) * np.r_[0, w[1:]]\n",
        "        w -= lr * gradient\n",
        "    return w"
      ],
      "metadata": {
        "id": "_R_IJeXhb6kg"
      },
      "execution_count": 10,
      "outputs": []
    },
    {
      "cell_type": "markdown",
      "source": [
        "### Define cost function"
      ],
      "metadata": {
        "id": "kRpcrjV0e9ja"
      }
    },
    {
      "cell_type": "code",
      "source": [
        "def ridge_cost(X, y, w, reg_lambda):\n",
        "    m = len(y)\n",
        "    X_b = np.c_[np.ones((m, 1)), X]\n",
        "    y_pred = X_b.dot(w)\n",
        "    mse = np.mean((y - y_pred)**2)\n",
        "    reg_term = (reg_lambda / (2*m)) * np.sum(w[1:]**2)\n",
        "    return mse + reg_term"
      ],
      "metadata": {
        "id": "VFLWZgUPeJHG"
      },
      "execution_count": 11,
      "outputs": []
    },
    {
      "cell_type": "markdown",
      "source": [
        "### Trying different hyperparameters"
      ],
      "metadata": {
        "id": "b0uubIxme_E0"
      }
    },
    {
      "cell_type": "code",
      "source": [
        "learning_rates = [0.0001, 0.001, 0.01, 0.1]  # remove very large values\n",
        "reg_params = [1e-10, 1e-5, 1e-3, 0.1, 1, 10]\n",
        "\n",
        "best_r2 = -np.inf\n",
        "best_params = None\n",
        "best_cost = np.inf\n",
        "best_w = None\n",
        "\n",
        "for lr, reg_lambda in itertools.product(learning_rates, reg_params):\n",
        "    try:\n",
        "        w = ridge_regression_gd(X, y, lr=lr, reg_lambda=reg_lambda, epochs=500)\n",
        "        cost = ridge_cost(X, y, w, reg_lambda)\n",
        "        X_b = np.c_[np.ones((len(X), 1)), X]\n",
        "        y_pred = X_b.dot(w)\n",
        "\n",
        "        # Skip if invalid numbers appear\n",
        "        if np.any(np.isnan(y_pred)) or np.any(np.isinf(y_pred)):\n",
        "            print(f\"⚠️ Skipping (lr={lr}, λ={reg_lambda}) due to NaN/Inf values.\")\n",
        "            continue\n",
        "\n",
        "        r2 = r2_score(y, y_pred)\n",
        "\n",
        "        if r2 > best_r2 or (r2 == best_r2 and cost < best_cost):\n",
        "            best_r2 = r2\n",
        "            best_cost = cost\n",
        "            best_params = (lr, reg_lambda)\n",
        "            best_w = w\n",
        "\n",
        "    except Exception as e:\n",
        "        print(f\"⚠️ Skipping (lr={lr}, λ={reg_lambda}) due to error: {e}\")\n",
        "        continue"
      ],
      "metadata": {
        "id": "GZJMBbXmeMSt"
      },
      "execution_count": 12,
      "outputs": []
    },
    {
      "cell_type": "markdown",
      "source": [
        "### Display best results"
      ],
      "metadata": {
        "id": "YqTgSnEAfFY6"
      }
    },
    {
      "cell_type": "code",
      "source": [
        "print(\"\\n✅ Best Parameters:\")\n",
        "print(f\"Learning Rate: {best_params[0]}\")\n",
        "print(f\"Regularization (Lambda): {best_params[1]}\")\n",
        "print(f\"Best R² Score: {best_r2:.5f}\")\n",
        "print(f\"Minimum Cost: {best_cost:.5f}\")\n",
        "print(\"\\nFinal Weights (including bias):\")\n",
        "print(best_w)"
      ],
      "metadata": {
        "colab": {
          "base_uri": "https://localhost:8080/"
        },
        "id": "_9unSNZteQPL",
        "outputId": "7fd9a896-6a09-4ac5-b46f-b3e33b099c8e"
      },
      "execution_count": 13,
      "outputs": [
        {
          "output_type": "stream",
          "name": "stdout",
          "text": [
            "\n",
            "✅ Best Parameters:\n",
            "Learning Rate: 0.1\n",
            "Regularization (Lambda): 1e-10\n",
            "Best R² Score: 0.87080\n",
            "Minimum Cost: 2.30901\n",
            "\n",
            "Final Weights (including bias):\n",
            "[ 2.97682643  2.57040649 -1.98002997  1.17518879  0.70797883  0.63974798\n",
            "  1.643919   -0.69436831]\n"
          ]
        }
      ]
    },
    {
      "cell_type": "markdown",
      "source": [
        "### Saving the results"
      ],
      "metadata": {
        "id": "OuuCXMqqfI3p"
      }
    },
    {
      "cell_type": "code",
      "source": [
        "results = {\n",
        "    \"Learning Rate\": best_params[0],\n",
        "    \"Lambda\": best_params[1],\n",
        "    \"Best R2\": best_r2,\n",
        "    \"Best Cost\": best_cost\n",
        "}\n",
        "pd.DataFrame([results]).to_csv(\"ridge_best_results.csv\", index=False)\n",
        "print(\"\\nResults saved to 'ridge_best_results.csv'\")"
      ],
      "metadata": {
        "colab": {
          "base_uri": "https://localhost:8080/"
        },
        "id": "K6BMu3JaeYG7",
        "outputId": "85260c4f-d576-4761-cb45-5fe23526898f"
      },
      "execution_count": 14,
      "outputs": [
        {
          "output_type": "stream",
          "name": "stdout",
          "text": [
            "\n",
            "Results saved to 'ridge_best_results.csv'\n"
          ]
        }
      ]
    },
    {
      "cell_type": "markdown",
      "source": [
        "# Q2."
      ],
      "metadata": {
        "id": "z77u40lffU7s"
      }
    },
    {
      "cell_type": "markdown",
      "source": [
        "### Loading dataset"
      ],
      "metadata": {
        "id": "GlXz686lfvUh"
      }
    },
    {
      "cell_type": "code",
      "source": [
        "hitters = pd.read_csv('/content/Hitters (1).csv')"
      ],
      "metadata": {
        "id": "fu_gquPZe2hU"
      },
      "execution_count": 15,
      "outputs": []
    },
    {
      "cell_type": "markdown",
      "source": [
        "### Preprocessing"
      ],
      "metadata": {
        "id": "j4NAfNdjxzTL"
      }
    },
    {
      "cell_type": "code",
      "source": [
        "hitters.dropna(inplace=True)"
      ],
      "metadata": {
        "id": "ZlWU2oTYf8Xs"
      },
      "execution_count": 16,
      "outputs": []
    },
    {
      "cell_type": "markdown",
      "source": [
        "### Label encoding"
      ],
      "metadata": {
        "id": "b7zRn1Cpx1QT"
      }
    },
    {
      "cell_type": "code",
      "source": [
        "for col in hitters.select_dtypes(include=['object']).columns:\n",
        "    hitters[col] = LabelEncoder().fit_transform(hitters[col])"
      ],
      "metadata": {
        "id": "9nKMF0G0ifSi"
      },
      "execution_count": 17,
      "outputs": []
    },
    {
      "cell_type": "markdown",
      "source": [
        "### Target and data division"
      ],
      "metadata": {
        "id": "8ePmUWfpx3wA"
      }
    },
    {
      "cell_type": "code",
      "source": [
        "X = hitters.drop('Salary', axis=1)\n",
        "y = hitters['Salary']"
      ],
      "metadata": {
        "id": "Jt6LpHjMihFe"
      },
      "execution_count": 18,
      "outputs": []
    },
    {
      "cell_type": "markdown",
      "source": [
        "### Training and Testing data"
      ],
      "metadata": {
        "id": "0gHOXRn1x71W"
      }
    },
    {
      "cell_type": "code",
      "source": [
        "X_train, X_test, y_train, y_test = train_test_split(X, y, test_size=0.2, random_state=42)"
      ],
      "metadata": {
        "id": "t7Y9Q0RUii5J"
      },
      "execution_count": 19,
      "outputs": []
    },
    {
      "cell_type": "markdown",
      "source": [
        "### Standardizing"
      ],
      "metadata": {
        "id": "g0ZqRDELx_3k"
      }
    },
    {
      "cell_type": "code",
      "source": [
        "scaler = StandardScaler()\n",
        "X_train = scaler.fit_transform(X_train)\n",
        "X_test = scaler.transform(X_test)"
      ],
      "metadata": {
        "id": "Eo5ve4qCkQ_W"
      },
      "execution_count": 20,
      "outputs": []
    },
    {
      "cell_type": "markdown",
      "source": [
        "### Learning Rate"
      ],
      "metadata": {
        "id": "QpruIyD-yCac"
      }
    },
    {
      "cell_type": "code",
      "source": [
        "ridge_alpha = lasso_alpha = 0.5748"
      ],
      "metadata": {
        "id": "dVpq07IHkT8d"
      },
      "execution_count": 21,
      "outputs": []
    },
    {
      "cell_type": "markdown",
      "source": [
        "### Model training"
      ],
      "metadata": {
        "id": "Px8O4PkByGYJ"
      }
    },
    {
      "cell_type": "code",
      "source": [
        "models = {\n",
        "    \"Linear\": LinearRegression(),\n",
        "    \"Ridge\": Ridge(alpha=ridge_alpha),\n",
        "    \"Lasso\": Lasso(alpha=lasso_alpha)\n",
        "}"
      ],
      "metadata": {
        "id": "kQ_wGB6skXDO"
      },
      "execution_count": 22,
      "outputs": []
    },
    {
      "cell_type": "code",
      "source": [
        "for name, model in models.items():\n",
        "    model.fit(X_train, y_train)\n",
        "    y_pred = model.predict(X_test)\n",
        "    print(f\"{name} Regression R2 Score: {r2_score(y_test, y_pred):.4f}\")"
      ],
      "metadata": {
        "colab": {
          "base_uri": "https://localhost:8080/"
        },
        "id": "pB6JHqKXkoc2",
        "outputId": "06e24f87-9776-48d4-d1ce-e6276d916b84"
      },
      "execution_count": 23,
      "outputs": [
        {
          "output_type": "stream",
          "name": "stdout",
          "text": [
            "Linear Regression R2 Score: 0.2907\n",
            "Ridge Regression R2 Score: 0.3000\n",
            "Lasso Regression R2 Score: 0.2993\n"
          ]
        },
        {
          "output_type": "stream",
          "name": "stderr",
          "text": [
            "/usr/local/lib/python3.12/dist-packages/sklearn/linear_model/_coordinate_descent.py:695: ConvergenceWarning: Objective did not converge. You might want to increase the number of iterations, check the scale of the features or consider increasing regularisation. Duality gap: 1.185e+04, tolerance: 4.367e+03\n",
            "  model = cd_fast.enet_coordinate_descent(\n"
          ]
        }
      ]
    },
    {
      "cell_type": "markdown",
      "source": [
        "# Q3."
      ],
      "metadata": {
        "id": "YfqHg0FVkx6h"
      }
    },
    {
      "cell_type": "markdown",
      "source": [
        "### Dataset Loading"
      ],
      "metadata": {
        "id": "LbN4QORyyO72"
      }
    },
    {
      "cell_type": "code",
      "source": [
        "data_url = \"http://lib.stat.cmu.edu/datasets/boston\"\n",
        "raw_df = pd.read_csv(data_url, sep=\"\\s+\", skiprows=22, header=None)\n",
        "data = np.hstack([raw_df.values[::2, :], raw_df.values[1::2, :2]])\n",
        "target = raw_df.values[1::2, 2]"
      ],
      "metadata": {
        "id": "o853CPjUkqyN",
        "colab": {
          "base_uri": "https://localhost:8080/"
        },
        "outputId": "c4e8d58b-2322-4ab2-eda4-42e1f3c8ff77"
      },
      "execution_count": 40,
      "outputs": [
        {
          "output_type": "stream",
          "name": "stderr",
          "text": [
            "<>:2: SyntaxWarning: invalid escape sequence '\\s'\n",
            "<>:2: SyntaxWarning: invalid escape sequence '\\s'\n",
            "/tmp/ipython-input-16828617.py:2: SyntaxWarning: invalid escape sequence '\\s'\n",
            "  raw_df = pd.read_csv(data_url, sep=\"\\s+\", skiprows=22, header=None)\n"
          ]
        }
      ]
    },
    {
      "cell_type": "markdown",
      "source": [
        "### Data division"
      ],
      "metadata": {
        "id": "kUwk3LQ5yRvM"
      }
    },
    {
      "cell_type": "code",
      "source": [
        "X,y = data,target"
      ],
      "metadata": {
        "id": "hqqPDxVHwC5s"
      },
      "execution_count": 25,
      "outputs": []
    },
    {
      "cell_type": "markdown",
      "source": [
        "### Training & Testing data & Standardization"
      ],
      "metadata": {
        "id": "dXh-PWpkyUgA"
      }
    },
    {
      "cell_type": "code",
      "source": [
        "X_train, X_test, y_train, y_test = train_test_split(X, y, test_size=0.2, random_state=42)\n",
        "scaler = StandardScaler()\n",
        "X_train = scaler.fit_transform(X_train)\n",
        "X_test = scaler.transform(X_test)"
      ],
      "metadata": {
        "id": "emDEODOdwoMj"
      },
      "execution_count": 26,
      "outputs": []
    },
    {
      "cell_type": "markdown",
      "source": [
        "### Ridge & Lasso"
      ],
      "metadata": {
        "id": "9_9k4qziybdj"
      }
    },
    {
      "cell_type": "code",
      "source": [
        "ridge_cv = RidgeCV(alphas=[0.1, 1, 10], store_cv_values=True)\n",
        "lasso_cv = LassoCV(alphas=[0.1, 1, 10], cv=5, random_state=42)"
      ],
      "metadata": {
        "id": "gWCHFhH2w5D9"
      },
      "execution_count": 27,
      "outputs": []
    },
    {
      "cell_type": "code",
      "source": [
        "ridge_cv.fit(X_train, y_train)\n",
        "lasso_cv.fit(X_train, y_train)\n",
        "\n",
        "ridge_pred = ridge_cv.predict(X_test)\n",
        "lasso_pred = lasso_cv.predict(X_test)"
      ],
      "metadata": {
        "colab": {
          "base_uri": "https://localhost:8080/"
        },
        "id": "5gkur0q9w673",
        "outputId": "7cc9b125-5731-4bf5-a90f-38ae5c3c18c3"
      },
      "execution_count": 28,
      "outputs": [
        {
          "output_type": "stream",
          "name": "stderr",
          "text": [
            "/usr/local/lib/python3.12/dist-packages/sklearn/linear_model/_ridge.py:2385: FutureWarning: 'store_cv_values' is deprecated in version 1.5 and will be removed in 1.7. Use 'store_cv_results' instead.\n",
            "  warnings.warn(\n"
          ]
        }
      ]
    },
    {
      "cell_type": "markdown",
      "source": [
        "### Result"
      ],
      "metadata": {
        "id": "lnMBTDAUyf8R"
      }
    },
    {
      "cell_type": "code",
      "source": [
        "print(f\"Best Ridge Alpha: {ridge_cv.alpha_}\")\n",
        "print(f\"Ridge R2: {r2_score(y_test, ridge_pred):.4f}\")\n",
        "print(f\"Best Lasso Alpha: {lasso_cv.alpha_}\")\n",
        "print(f\"Lasso R2: {r2_score(y_test, lasso_pred):.4f}\")"
      ],
      "metadata": {
        "colab": {
          "base_uri": "https://localhost:8080/"
        },
        "id": "g6rEQKXIxH2F",
        "outputId": "e4d5dd78-eb14-423a-aa16-595bc7e54cf3"
      },
      "execution_count": 29,
      "outputs": [
        {
          "output_type": "stream",
          "name": "stdout",
          "text": [
            "Best Ridge Alpha: 10.0\n",
            "Ridge R2: 0.6660\n",
            "Best Lasso Alpha: 0.1\n",
            "Lasso R2: 0.6501\n"
          ]
        }
      ]
    },
    {
      "cell_type": "markdown",
      "source": [
        "# Q4."
      ],
      "metadata": {
        "id": "8UHiLSwJxOUW"
      }
    },
    {
      "cell_type": "markdown",
      "source": [
        "### Loading Dataset"
      ],
      "metadata": {
        "id": "EvvTBGLnyhjb"
      }
    },
    {
      "cell_type": "code",
      "source": [
        "from sklearn.datasets import load_iris"
      ],
      "metadata": {
        "id": "WH0Q78pyxJWw"
      },
      "execution_count": 32,
      "outputs": []
    },
    {
      "cell_type": "code",
      "source": [
        "iris = load_iris()\n",
        "X, y = iris.data, iris.target"
      ],
      "metadata": {
        "id": "G3SCDHZdxZjr"
      },
      "execution_count": 33,
      "outputs": []
    },
    {
      "cell_type": "markdown",
      "source": [
        "### Standardization"
      ],
      "metadata": {
        "id": "OjSS-ItWyj29"
      }
    },
    {
      "cell_type": "code",
      "source": [
        "X = StandardScaler().fit_transform(X)"
      ],
      "metadata": {
        "id": "K1vzHWQoxUo5"
      },
      "execution_count": 34,
      "outputs": []
    },
    {
      "cell_type": "markdown",
      "source": [
        "### Sigmoid Function"
      ],
      "metadata": {
        "id": "oBgY1mIbymuN"
      }
    },
    {
      "cell_type": "code",
      "source": [
        "def sigmoid(z):\n",
        "    return 1 / (1 + np.exp(-z))"
      ],
      "metadata": {
        "id": "r6kcQnS0xd4J"
      },
      "execution_count": 35,
      "outputs": []
    },
    {
      "cell_type": "markdown",
      "source": [
        "### Training logistic regression model"
      ],
      "metadata": {
        "id": "7v9k9Y84yo7v"
      }
    },
    {
      "cell_type": "code",
      "source": [
        "def train_logistic_ovr(X, y, lr=0.1, epochs=1000):\n",
        "    m, n = X.shape\n",
        "    classes = np.unique(y)\n",
        "    W = np.zeros((len(classes), n))\n",
        "    b = np.zeros(len(classes))\n",
        "    for idx, c in enumerate(classes):\n",
        "        y_c = (y == c).astype(int)\n",
        "        for _ in range(epochs):\n",
        "            z = np.dot(X, W[idx]) + b[idx]\n",
        "            h = sigmoid(z)\n",
        "            grad_w = (1/m) * np.dot(X.T, (h - y_c))\n",
        "            grad_b = (1/m) * np.sum(h - y_c)\n",
        "            W[idx] -= lr * grad_w\n",
        "            b[idx] -= lr * grad_b\n",
        "    return W, b"
      ],
      "metadata": {
        "id": "kj1AuJcPxf--"
      },
      "execution_count": 36,
      "outputs": []
    },
    {
      "cell_type": "markdown",
      "source": [
        "### Predicting Function"
      ],
      "metadata": {
        "id": "nKLCny5PyuXT"
      }
    },
    {
      "cell_type": "code",
      "source": [
        "def predict_ovr(X, W, b):\n",
        "    z = np.dot(X, W.T) + b\n",
        "    probs = sigmoid(z)\n",
        "    return np.argmax(probs, axis=1)"
      ],
      "metadata": {
        "id": "2RP-brMLxh1Y"
      },
      "execution_count": 37,
      "outputs": []
    },
    {
      "cell_type": "code",
      "source": [
        "W, b = train_logistic_ovr(X, y, lr=0.1, epochs=2000)\n",
        "y_pred = predict_ovr(X, W, b)"
      ],
      "metadata": {
        "id": "Amus3Y6DxkGQ"
      },
      "execution_count": 38,
      "outputs": []
    },
    {
      "cell_type": "markdown",
      "source": [
        "### Result"
      ],
      "metadata": {
        "id": "BtueOBqEyyOL"
      }
    },
    {
      "cell_type": "code",
      "source": [
        "print(f\"Training Accuracy: {accuracy_score(y, y_pred):.4f}\")"
      ],
      "metadata": {
        "colab": {
          "base_uri": "https://localhost:8080/"
        },
        "id": "jaZJEW-exl4m",
        "outputId": "430e1678-a681-4b86-9ed2-98d418e3f449"
      },
      "execution_count": 39,
      "outputs": [
        {
          "output_type": "stream",
          "name": "stdout",
          "text": [
            "Training Accuracy: 0.9467\n"
          ]
        }
      ]
    }
  ]
}