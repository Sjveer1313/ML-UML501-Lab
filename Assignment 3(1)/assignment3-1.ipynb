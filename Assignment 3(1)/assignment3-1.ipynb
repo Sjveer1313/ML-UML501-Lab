{
 "cells": [
  {
   "cell_type": "markdown",
   "id": "41684710",
   "metadata": {},
   "source": [
    "# Assignment 3(1)"
   ]
  },
  {
   "cell_type": "markdown",
   "id": "e0f27469",
   "metadata": {},
   "source": [
    "### Import libraries"
   ]
  },
  {
   "cell_type": "code",
   "execution_count": 29,
   "id": "b681ae0e",
   "metadata": {},
   "outputs": [],
   "source": [
    "import numpy as np\n",
    "import pandas as pd\n",
    "from sklearn.preprocessing import StandardScaler,LabelEncoder\n",
    "from sklearn.metrics import r2_score\n",
    "from sklearn.model_selection import KFold,train_test_split\n",
    "from sklearn.decomposition import PCA\n",
    "from sklearn.linear_model import LinearRegression"
   ]
  },
  {
   "cell_type": "markdown",
   "id": "07f51554",
   "metadata": {},
   "source": [
    "### Q1."
   ]
  },
  {
   "cell_type": "code",
   "execution_count": 30,
   "id": "a1db6080",
   "metadata": {},
   "outputs": [],
   "source": [
    "df_house = pd.read_csv(\"USA_Housing.csv\")\n",
    "X = df_house.drop(columns=[\"Price\"])\n",
    "y = df_house[\"Price\"].values"
   ]
  },
  {
   "cell_type": "code",
   "execution_count": 31,
   "id": "4b072dfb",
   "metadata": {},
   "outputs": [],
   "source": [
    "X = pd.get_dummies(X,drop_first=True)"
   ]
  },
  {
   "cell_type": "code",
   "execution_count": 32,
   "id": "8e4ba69b",
   "metadata": {},
   "outputs": [],
   "source": [
    "scaler = StandardScaler()\n",
    "X_scaled = scaler.fit_transform(X)"
   ]
  },
  {
   "cell_type": "code",
   "execution_count": 33,
   "id": "9f26f0ad",
   "metadata": {},
   "outputs": [],
   "source": [
    "def add_intercept(X):\n",
    "    return np.hstack([np.ones((X.shape[0],1)),X])"
   ]
  },
  {
   "cell_type": "code",
   "execution_count": 34,
   "id": "e008d2b0",
   "metadata": {},
   "outputs": [],
   "source": [
    "def closed_form_beta(X,y):\n",
    "    return np.linalg.pinv(X.T @ X) @ (X.T @ y)"
   ]
  },
  {
   "cell_type": "code",
   "execution_count": 35,
   "id": "a31295c8",
   "metadata": {},
   "outputs": [],
   "source": [
    "kf = KFold(n_splits=5,shuffle=True,random_state=42)\n",
    "fold_results = []"
   ]
  },
  {
   "cell_type": "code",
   "execution_count": 36,
   "id": "95ae44d2",
   "metadata": {},
   "outputs": [
    {
     "name": "stdout",
     "output_type": "stream",
     "text": [
      "Fold 1 → R2 Score: 0.9180\n",
      "Fold 2 → R2 Score: 0.9146\n",
      "Fold 3 → R2 Score: 0.9116\n",
      "Fold 4 → R2 Score: 0.9193\n",
      "Fold 5 → R2 Score: 0.9244\n"
     ]
    }
   ],
   "source": [
    "for i, (train_idx,test_idx) in enumerate(kf.split(X_scaled), start=1):\n",
    "    X_train, X_test = X_scaled[train_idx], X_scaled[test_idx]\n",
    "    y_train, y_test = y[train_idx], y[test_idx]\n",
    "\n",
    "    beta = closed_form_beta(add_intercept(X_train), y_train)\n",
    "    y_pred = add_intercept(X_test) @ beta\n",
    "\n",
    "    r2 = r2_score(y_test, y_pred)\n",
    "    fold_results.append((i, r2))\n",
    "\n",
    "    print(f\"Fold {i} → R2 Score: {r2:.4f}\")"
   ]
  },
  {
   "cell_type": "code",
   "execution_count": 37,
   "id": "8cf9e8dc",
   "metadata": {},
   "outputs": [
    {
     "name": "stdout",
     "output_type": "stream",
     "text": [
      "Best Fold: (5, 0.9243869413350317)\n"
     ]
    }
   ],
   "source": [
    "best_fold = max(fold_results, key=lambda x: x[1])\n",
    "print(\"Best Fold:\", best_fold)"
   ]
  },
  {
   "cell_type": "markdown",
   "id": "bcc32b06",
   "metadata": {},
   "source": [
    "### Q2."
   ]
  },
  {
   "cell_type": "code",
   "execution_count": 38,
   "id": "b51a8807",
   "metadata": {},
   "outputs": [],
   "source": [
    "X_temp, X_test, y_temp, y_test = train_test_split(X_scaled, y, test_size=0.30, random_state=42)\n",
    "X_train, X_val, y_train, y_val = train_test_split(X_temp, y_temp, test_size=0.20, random_state=42)"
   ]
  },
  {
   "cell_type": "code",
   "execution_count": 39,
   "id": "684d48ed",
   "metadata": {},
   "outputs": [],
   "source": [
    "X_train_i, X_val_i, X_test_i = add_intercept(X_train), add_intercept(X_val), add_intercept(X_test)"
   ]
  },
  {
   "cell_type": "code",
   "execution_count": 40,
   "id": "588c3c6e",
   "metadata": {},
   "outputs": [],
   "source": [
    "def gradient_descent(X, y, lr=0.01, n_iter=1000):\n",
    "    n, d = X.shape\n",
    "    beta = np.zeros(d)\n",
    "    for _ in range(n_iter):\n",
    "        error = X @ beta - y\n",
    "        grad = (2/n) * (X.T @ error)\n",
    "        beta -= lr * grad\n",
    "    return beta"
   ]
  },
  {
   "cell_type": "code",
   "execution_count": 41,
   "id": "5be2db77",
   "metadata": {},
   "outputs": [
    {
     "name": "stdout",
     "output_type": "stream",
     "text": [
      "LR=0.001 → Val R2=0.6820, Test R2=0.6490\n",
      "LR=0.01 → Val R2=0.9098, Test R2=0.9148\n",
      "LR=0.1 → Val R2=0.9098, Test R2=0.9148\n",
      "LR=1 → Val R2=-inf, Test R2=-inf\n"
     ]
    },
    {
     "name": "stderr",
     "output_type": "stream",
     "text": [
      "/Library/Frameworks/Python.framework/Versions/3.12/lib/python3.12/site-packages/sklearn/metrics/_regression.py:1275: RuntimeWarning: overflow encountered in square\n",
      "  numerator = xp.sum(weight * (y_true - y_pred) ** 2, axis=0)\n",
      "/Library/Frameworks/Python.framework/Versions/3.12/lib/python3.12/site-packages/sklearn/metrics/_regression.py:1275: RuntimeWarning: overflow encountered in square\n",
      "  numerator = xp.sum(weight * (y_true - y_pred) ** 2, axis=0)\n"
     ]
    }
   ],
   "source": [
    "for lr in [0.001, 0.01, 0.1, 1]:\n",
    "    beta = gradient_descent(X_train_i, y_train, lr=lr, n_iter=1000)\n",
    "\n",
    "    val_r2 = r2_score(y_val, X_val_i @ beta)\n",
    "    test_r2 = r2_score(y_test, X_test_i @ beta)\n",
    "\n",
    "    print(f\"LR={lr} → Val R2={val_r2:.4f}, Test R2={test_r2:.4f}\")"
   ]
  },
  {
   "cell_type": "markdown",
   "id": "c9a122c6",
   "metadata": {},
   "source": [
    "### Q3."
   ]
  },
  {
   "cell_type": "code",
   "execution_count": 42,
   "id": "421cef84",
   "metadata": {},
   "outputs": [],
   "source": [
    "import ssl\n",
    "ssl._create_default_https_context = ssl._create_unverified_context\n",
    "columns = [\"symboling\",\"normalized_losses\",\"make\",\"fuel_type\",\"aspiration\",\"num_doors\",\n",
    "           \"body_style\",\"drive_wheels\",\"engine_location\",\"wheel_base\",\"length\",\"width\",\n",
    "           \"height\",\"curb_weight\",\"engine_type\",\"num_cylinders\",\"engine_size\",\"fuel_system\",\n",
    "           \"bore\",\"stroke\",\"compression_ratio\",\"horsepower\",\"peak_rpm\",\"city_mpg\",\n",
    "           \"highway_mpg\",\"price\"]\n",
    "df_auto = pd.read_csv(\n",
    "    \"https://archive.ics.uci.edu/ml/machine-learning-databases/autos/imports-85.data\",\n",
    "    header=None,\n",
    "    names=columns,\n",
    "    na_values=\"?\"\n",
    ")"
   ]
  },
  {
   "cell_type": "code",
   "execution_count": 43,
   "id": "25539622",
   "metadata": {},
   "outputs": [],
   "source": [
    "df_auto[\"price\"] = pd.to_numeric(df_auto[\"price\"], errors=\"coerce\")\n",
    "df_auto = df_auto.dropna(subset=[\"price\"])"
   ]
  },
  {
   "cell_type": "markdown",
   "id": "eb4416c6",
   "metadata": {},
   "source": [
    "##### Preprocessing"
   ]
  },
  {
   "cell_type": "code",
   "execution_count": 44,
   "id": "77d0c18b",
   "metadata": {},
   "outputs": [],
   "source": [
    "num_map = {\"one\":1,\"two\":2,\"three\":3,\"four\":4,\"five\":5,\n",
    "           \"six\":6,\"seven\":7,\"eight\":8,\"nine\":9,\"ten\":10}\n",
    "\n",
    "df_auto[\"num_doors\"] = df_auto[\"num_doors\"].map(num_map)\n",
    "df_auto[\"num_cylinders\"] = df_auto[\"num_cylinders\"].map(num_map)"
   ]
  },
  {
   "cell_type": "code",
   "execution_count": 45,
   "id": "dae2dbe7",
   "metadata": {},
   "outputs": [],
   "source": [
    "df_auto = pd.get_dummies(df_auto, columns=[\"body_style\",\"drive_wheels\"], drop_first=True)"
   ]
  },
  {
   "cell_type": "code",
   "execution_count": 46,
   "id": "7ddfb785",
   "metadata": {},
   "outputs": [],
   "source": [
    "for col in [\"make\",\"aspiration\",\"engine_location\",\"fuel_type\"]:\n",
    "    df_auto[col] = LabelEncoder().fit_transform(df_auto[col].astype(str))"
   ]
  },
  {
   "cell_type": "code",
   "execution_count": 47,
   "id": "5d4a78de",
   "metadata": {},
   "outputs": [],
   "source": [
    "df_auto[\"fuel_system\"] = df_auto[\"fuel_system\"].astype(str).apply(lambda x: 1 if \"pfi\" in x else 0)"
   ]
  },
  {
   "cell_type": "code",
   "execution_count": 48,
   "id": "c902f407",
   "metadata": {},
   "outputs": [],
   "source": [
    "df_auto[\"engine_type\"] = df_auto[\"engine_type\"].astype(str).apply(lambda x: 1 if \"ohc\" in x else 0)"
   ]
  },
  {
   "cell_type": "markdown",
   "id": "f9982b5b",
   "metadata": {},
   "source": [
    "##### Linear Regression with and without PCA"
   ]
  },
  {
   "cell_type": "code",
   "execution_count": 49,
   "id": "84adb044",
   "metadata": {},
   "outputs": [],
   "source": [
    "X = df_auto.drop(columns=[\"price\"])\n",
    "y = df_auto[\"price\"].astype(float)"
   ]
  },
  {
   "cell_type": "code",
   "execution_count": 50,
   "id": "d5bc1695",
   "metadata": {},
   "outputs": [],
   "source": [
    "X = X.fillna(X.mean())"
   ]
  },
  {
   "cell_type": "code",
   "execution_count": 51,
   "id": "d8912a75",
   "metadata": {},
   "outputs": [],
   "source": [
    "scaler = StandardScaler()\n",
    "X_scaled = scaler.fit_transform(X)"
   ]
  },
  {
   "cell_type": "code",
   "execution_count": 52,
   "id": "f3cf2f3a",
   "metadata": {},
   "outputs": [],
   "source": [
    "X_train, X_test, y_train, y_test = train_test_split(X_scaled, y, test_size=0.3, random_state=42)"
   ]
  },
  {
   "cell_type": "code",
   "execution_count": 53,
   "id": "88472439",
   "metadata": {},
   "outputs": [
    {
     "name": "stdout",
     "output_type": "stream",
     "text": [
      "Baseline R2: 0.8721906380914359\n"
     ]
    }
   ],
   "source": [
    "lr = LinearRegression()\n",
    "lr.fit(X_train, y_train)\n",
    "print(\"Baseline R2:\", r2_score(y_test, lr.predict(X_test)))"
   ]
  },
  {
   "cell_type": "code",
   "execution_count": 54,
   "id": "12ad9023",
   "metadata": {},
   "outputs": [],
   "source": [
    "pca = PCA(n_components=0.95)\n",
    "X_pca = pca.fit_transform(X_scaled)\n",
    "Xp_train, Xp_test, yp_train, yp_test = train_test_split(X_pca, y, test_size=0.3, random_state=42)"
   ]
  },
  {
   "cell_type": "code",
   "execution_count": 55,
   "id": "3b34b3c6",
   "metadata": {},
   "outputs": [
    {
     "name": "stdout",
     "output_type": "stream",
     "text": [
      "PCA R2: 0.8757822928276745\n"
     ]
    }
   ],
   "source": [
    "lr_pca = LinearRegression()\n",
    "lr_pca.fit(Xp_train, yp_train)\n",
    "print(\"PCA R2:\", r2_score(yp_test, lr_pca.predict(Xp_test)))"
   ]
  }
 ],
 "metadata": {
  "kernelspec": {
   "display_name": "Python 3",
   "language": "python",
   "name": "python3"
  },
  "language_info": {
   "codemirror_mode": {
    "name": "ipython",
    "version": 3
   },
   "file_extension": ".py",
   "mimetype": "text/x-python",
   "name": "python",
   "nbconvert_exporter": "python",
   "pygments_lexer": "ipython3",
   "version": "3.12.1"
  }
 },
 "nbformat": 4,
 "nbformat_minor": 5
}
