{
  "nbformat": 4,
  "nbformat_minor": 0,
  "metadata": {
    "colab": {
      "provenance": []
    },
    "kernelspec": {
      "name": "python3",
      "display_name": "Python 3"
    },
    "language_info": {
      "name": "python"
    }
  },
  "cells": [
    {
      "cell_type": "markdown",
      "source": [
        "# **Assignment 1**"
      ],
      "metadata": {
        "id": "BCBG76vTvHtr"
      }
    },
    {
      "cell_type": "code",
      "execution_count": 1,
      "metadata": {
        "id": "zXV0UuotvFXz"
      },
      "outputs": [],
      "source": [
        "import numpy as np\n",
        "from collections import Counter"
      ]
    },
    {
      "cell_type": "markdown",
      "source": [
        "### Q1."
      ],
      "metadata": {
        "id": "GDdysRxAvast"
      }
    },
    {
      "cell_type": "code",
      "source": [
        "# (a)\n",
        "arr = np.array([1,2,3,6,4,5])\n",
        "reversed_arr = arr[::-1]\n",
        "print(reversed_arr)"
      ],
      "metadata": {
        "colab": {
          "base_uri": "https://localhost:8080/"
        },
        "id": "NmkEQFozvYi-",
        "outputId": "7582f223-fb9e-43f6-847d-1471576bbfff"
      },
      "execution_count": 4,
      "outputs": [
        {
          "output_type": "stream",
          "name": "stdout",
          "text": [
            "[5 4 6 3 2 1]\n"
          ]
        }
      ]
    },
    {
      "cell_type": "code",
      "source": [
        "# (b)\n",
        "array1 = np.array([[1,2,3],[2,4,5],[1,2,3]])\n",
        "flat1 = array1.flatten()\n",
        "print(flat1)"
      ],
      "metadata": {
        "colab": {
          "base_uri": "https://localhost:8080/"
        },
        "id": "bA3CRjiPvqA5",
        "outputId": "c1af2372-d57b-49d4-b687-1e336286a4d1"
      },
      "execution_count": 10,
      "outputs": [
        {
          "output_type": "stream",
          "name": "stdout",
          "text": [
            "[1 2 3 2 4 5 1 2 3]\n"
          ]
        }
      ]
    },
    {
      "cell_type": "code",
      "source": [
        "# (c)\n",
        "arr1 = np.array([[1,2],[3,4]])\n",
        "arr2 = np.array([[1,2],[3,4]])\n",
        "comparision = np.array_equal(arr1,arr2)\n",
        "print(comparision)"
      ],
      "metadata": {
        "colab": {
          "base_uri": "https://localhost:8080/"
        },
        "id": "uPRRZbsZv-bw",
        "outputId": "f50aafbe-d31d-4c21-8d5d-f85853c6aa7f"
      },
      "execution_count": 11,
      "outputs": [
        {
          "output_type": "stream",
          "name": "stdout",
          "text": [
            "True\n"
          ]
        }
      ]
    },
    {
      "cell_type": "code",
      "source": [
        "# (d)\n",
        "def most_freq_info(x):\n",
        "  vals,counts = np.unique(x,return_counts=True)\n",
        "  most_freq = vals[np.argmax(counts)]\n",
        "  indices = np.where(x == most_freq)[0]\n",
        "  return most_freq,indices\n",
        "\n",
        "x = np.array([1,2,3,4,5,1,2,1,1,1])\n",
        "y = np.array([1,1,1,2,3,4,2,4,3,3])\n",
        "freq_x,idx_x = most_freq_info(x)\n",
        "freq_y,idx_y = most_freq_info(y)\n",
        "print(freq_x,idx_x)\n",
        "print(freq_y,idx_y)"
      ],
      "metadata": {
        "colab": {
          "base_uri": "https://localhost:8080/"
        },
        "id": "imjuLLS6wj1q",
        "outputId": "cef46dcc-a6a7-4ff6-aab0-7d5e0a3b45c2"
      },
      "execution_count": 14,
      "outputs": [
        {
          "output_type": "stream",
          "name": "stdout",
          "text": [
            "1 [0 5 7 8 9]\n",
            "1 [0 1 2]\n"
          ]
        }
      ]
    },
    {
      "cell_type": "code",
      "source": [
        "# (e)\n",
        "gfg = np.matrix('[4,1,9;12,3,1;4,5,6]')\n",
        "total_sum = np.sum(gfg)\n",
        "row_sum = np.sum(gfg,axis=1)\n",
        "col_sum = np.sum(gfg,axis=0)\n",
        "print('Total Sum :',total_sum)\n",
        "print('Row Sum :',row_sum)\n",
        "print('Column Sum :',col_sum)"
      ],
      "metadata": {
        "colab": {
          "base_uri": "https://localhost:8080/"
        },
        "id": "Vq6bdkkNxBR6",
        "outputId": "645c8e1c-d01c-4c37-fd92-d3dd1875cd37"
      },
      "execution_count": 15,
      "outputs": [
        {
          "output_type": "stream",
          "name": "stdout",
          "text": [
            "Total Sum : 45\n",
            "Row Sum : [[14]\n",
            " [16]\n",
            " [15]]\n",
            "Column Sum : [[20  9 16]]\n"
          ]
        }
      ]
    },
    {
      "cell_type": "code",
      "source": [
        "# (f)\n",
        "n_array = np.array([[55,25,15],[30,44,2],[11,45,77]])\n",
        "diag_sum = np.trace(n_array)\n",
        "eigen_values,eigen_vectors = np.linalg.eig(n_array)\n",
        "inverse = np.linalg.inv(n_array)\n",
        "det = np.linalg.det(n_array)\n",
        "print('Diagonal Sum :',diag_sum)\n",
        "print('Eigen Values :',eigen_values)\n",
        "print('Eigen Vectors :',eigen_vectors)\n",
        "print('Inverse :',inverse)\n",
        "print('Determinant :',det)"
      ],
      "metadata": {
        "colab": {
          "base_uri": "https://localhost:8080/"
        },
        "id": "7FbGy25yyKwG",
        "outputId": "b41cb3b0-dcc5-46fe-88a9-4bbae7ff8c77"
      },
      "execution_count": 16,
      "outputs": [
        {
          "output_type": "stream",
          "name": "stdout",
          "text": [
            "Diagonal Sum : 176\n",
            "Eigen Values : [98.16835147 28.097044   49.73460452]\n",
            "Eigen Vectors : [[ 0.4574917   0.34637121 -0.15017693]\n",
            " [ 0.28447814 -0.72784061 -0.4852124 ]\n",
            " [ 0.84248058  0.59184038  0.8614034 ]]\n",
            "Inverse : [[ 0.02404141 -0.00911212 -0.00444671]\n",
            " [-0.01667882  0.02966905  0.0024785 ]\n",
            " [ 0.00631287 -0.01603732  0.01217379]]\n",
            "Determinant : 137180.0000000001\n"
          ]
        }
      ]
    },
    {
      "cell_type": "code",
      "source": [
        "# (g)\n",
        "  # (i)\n",
        "p1 = np.array([[1,2],[2,3]])\n",
        "q1 = np.array([[4,5],[6,7]])\n",
        "product1 = np.dot(p1,q1)\n",
        "cov1 = np.cov(p1.T,q1.T)\n",
        "print('Product :',product1)\n",
        "print('Covarience :',cov1)"
      ],
      "metadata": {
        "colab": {
          "base_uri": "https://localhost:8080/"
        },
        "id": "mWwURqpVypQ8",
        "outputId": "82be6bad-f412-46a0-ae04-7b9115f0bef2"
      },
      "execution_count": 18,
      "outputs": [
        {
          "output_type": "stream",
          "name": "stdout",
          "text": [
            "Product : [[16 19]\n",
            " [26 31]]\n",
            "Covarience : [[0.5 0.5 1.  1. ]\n",
            " [0.5 0.5 1.  1. ]\n",
            " [1.  1.  2.  2. ]\n",
            " [1.  1.  2.  2. ]]\n"
          ]
        }
      ]
    },
    {
      "cell_type": "code",
      "source": [
        "  # (ii)\n",
        "p2 = np.array([[1, 2], [2, 3], [4, 5]])\n",
        "q2 = np.array([[4, 5, 1], [6, 7, 2]])\n",
        "product2 = np.dot(p2, q2)\n",
        "cov2 = np.cov(p2.T, q2)\n",
        "print('Product :',product2)\n",
        "print('Covarience :',cov2)"
      ],
      "metadata": {
        "colab": {
          "base_uri": "https://localhost:8080/"
        },
        "id": "nHF53L-yzFlQ",
        "outputId": "3dfc364d-3d5c-4d0f-85f4-68e67c17f5a3"
      },
      "execution_count": 21,
      "outputs": [
        {
          "output_type": "stream",
          "name": "stdout",
          "text": [
            "Product : [[16 19  5]\n",
            " [26 31  8]\n",
            " [46 55 14]]\n",
            "Covarience : [[ 2.33333333  2.33333333 -2.66666667 -3.5       ]\n",
            " [ 2.33333333  2.33333333 -2.66666667 -3.5       ]\n",
            " [-2.66666667 -2.66666667  4.33333333  5.5       ]\n",
            " [-3.5        -3.5         5.5         7.        ]]\n"
          ]
        }
      ]
    },
    {
      "cell_type": "code",
      "source": [
        "# (h)\n",
        "x = np.array([[2, 3, 4], [3, 2, 9]])\n",
        "y = np.array([[1, 5, 0], [5, 10, 3]])\n",
        "inner = np.inner(x, y)\n",
        "outer = np.outer(x.flatten(), y.flatten())\n",
        "cartesian = np.array(np.meshgrid(x.flatten(), y.flatten())).T.reshape(-1, 2)\n",
        "print('Inner :',inner)\n",
        "print('Outer :',outer)\n",
        "print('Cartesian :',cartesian)"
      ],
      "metadata": {
        "colab": {
          "base_uri": "https://localhost:8080/"
        },
        "id": "fWkyKFijzYiv",
        "outputId": "ccadf2ff-01e0-428e-84dc-5da0cc734f09"
      },
      "execution_count": 23,
      "outputs": [
        {
          "output_type": "stream",
          "name": "stdout",
          "text": [
            "Inner : [[17 52]\n",
            " [13 62]]\n",
            "Outer : [[ 2 10  0 10 20  6]\n",
            " [ 3 15  0 15 30  9]\n",
            " [ 4 20  0 20 40 12]\n",
            " [ 3 15  0 15 30  9]\n",
            " [ 2 10  0 10 20  6]\n",
            " [ 9 45  0 45 90 27]]\n",
            "Cartesian : [[ 2  1]\n",
            " [ 2  5]\n",
            " [ 2  0]\n",
            " [ 2  5]\n",
            " [ 2 10]\n",
            " [ 2  3]\n",
            " [ 3  1]\n",
            " [ 3  5]\n",
            " [ 3  0]\n",
            " [ 3  5]\n",
            " [ 3 10]\n",
            " [ 3  3]\n",
            " [ 4  1]\n",
            " [ 4  5]\n",
            " [ 4  0]\n",
            " [ 4  5]\n",
            " [ 4 10]\n",
            " [ 4  3]\n",
            " [ 3  1]\n",
            " [ 3  5]\n",
            " [ 3  0]\n",
            " [ 3  5]\n",
            " [ 3 10]\n",
            " [ 3  3]\n",
            " [ 2  1]\n",
            " [ 2  5]\n",
            " [ 2  0]\n",
            " [ 2  5]\n",
            " [ 2 10]\n",
            " [ 2  3]\n",
            " [ 9  1]\n",
            " [ 9  5]\n",
            " [ 9  0]\n",
            " [ 9  5]\n",
            " [ 9 10]\n",
            " [ 9  3]]\n"
          ]
        }
      ]
    },
    {
      "cell_type": "markdown",
      "source": [
        "### Q2."
      ],
      "metadata": {
        "id": "BO_0xQFDz94i"
      }
    },
    {
      "cell_type": "code",
      "source": [
        "# (a)\n",
        "  # (i)\n",
        "array = np.array([[1, -2, 3],[-4, 5, -6]])\n",
        "abs_array = np.abs(array)\n",
        "print(abs_array)"
      ],
      "metadata": {
        "colab": {
          "base_uri": "https://localhost:8080/"
        },
        "id": "l8fXi1NLz4T6",
        "outputId": "6918ca5a-2ed7-4ea8-a2e8-930c3fb7547c"
      },
      "execution_count": 24,
      "outputs": [
        {
          "output_type": "stream",
          "name": "stdout",
          "text": [
            "[[ 1 -2  3]\n",
            " [-4  5 -6]]\n"
          ]
        }
      ]
    },
    {
      "cell_type": "code",
      "source": [
        "  # (ii)\n",
        "flat = array.flatten()\n",
        "p_flat = np.percentile(flat, [25, 50, 75])\n",
        "p_col = np.percentile(array, [25, 50, 75], axis=0)\n",
        "p_row = np.percentile(array, [25, 50, 75], axis=1)\n",
        "print('Percentile of Flattened array :',p_flat)\n",
        "print('Percentile of each Column :',p_col)\n",
        "print('Percentile of each row :',p_row)"
      ],
      "metadata": {
        "colab": {
          "base_uri": "https://localhost:8080/"
        },
        "id": "vzy9BFCl0DQU",
        "outputId": "7b2b0ac9-bdc7-4c61-db7b-cd8dfe3d6e55"
      },
      "execution_count": 27,
      "outputs": [
        {
          "output_type": "stream",
          "name": "stdout",
          "text": [
            "Percentile of Flattened array : [-3.5 -0.5  2.5]\n",
            "Percentile of each Column : [[-2.75 -0.25 -3.75]\n",
            " [-1.5   1.5  -1.5 ]\n",
            " [-0.25  3.25  0.75]]\n",
            "Percentile of each row : [[-0.5 -5. ]\n",
            " [ 1.  -4. ]\n",
            " [ 2.   0.5]]\n"
          ]
        }
      ]
    },
    {
      "cell_type": "code",
      "source": [
        "  # (iii)\n",
        "mean_flat = np.mean(flat)\n",
        "median_flat = np.median(flat)\n",
        "std_flat = np.std(flat)\n",
        "print('Mean of Flattened array :',mean_flat)\n",
        "print('Median of Flattened array :',median_flat)\n",
        "print('Standard Deviation of Flattened array :',std_flat)\n",
        "print()\n",
        "\n",
        "mean_col = np.mean(array, axis=0)\n",
        "median_col = np.median(array, axis=0)\n",
        "std_col = np.std(array, axis=0)\n",
        "print('Mean of each Column :',mean_col)\n",
        "print('Median of each Column :',median_col)\n",
        "print('Standard Deviation of each Column :',std_col)\n",
        "print()\n",
        "\n",
        "mean_row = np.mean(array, axis=1)\n",
        "median_row = np.median(array, axis=1)\n",
        "std_row = np.std(array, axis=1)\n",
        "print('Mean of each row :',mean_row)\n",
        "print('Median of each row :',median_row)\n",
        "print('Standard Deviation of each row :',std_row)"
      ],
      "metadata": {
        "colab": {
          "base_uri": "https://localhost:8080/"
        },
        "id": "UioPPoRS0IVE",
        "outputId": "eff7d5a0-17d7-4f18-ce95-0ea595a7334f"
      },
      "execution_count": 29,
      "outputs": [
        {
          "output_type": "stream",
          "name": "stdout",
          "text": [
            "Mean of Flattened array : -0.5\n",
            "Median of Flattened array : -0.5\n",
            "Standard Deviation of Flattened array : 3.8622100754188224\n",
            "\n",
            "Mean of each Column : [-1.5  1.5 -1.5]\n",
            "Median of each Column : [-1.5  1.5 -1.5]\n",
            "Standard Deviation of each Column : [2.5 3.5 4.5]\n",
            "\n",
            "Mean of each row : [ 0.66666667 -1.66666667]\n",
            "Median of each row : [ 1. -4.]\n",
            "Standard Deviation of each row : [2.05480467 4.78423336]\n"
          ]
        }
      ]
    },
    {
      "cell_type": "code",
      "source": [
        "# (b)\n",
        "a = np.array([-1.8, -1.6, -0.5, 0.5, 1.6, 1.8, 3.0])\n",
        "floor_vals = np.floor(a)\n",
        "ceil_vals = np.ceil(a)\n",
        "trunc_vals = np.trunc(a)\n",
        "rounded_vals = np.round(a)\n",
        "print('Floor Values :',floor_vals)\n",
        "print('Ceil Values :',ceil_vals)\n",
        "print('Trunc Values :',trunc_vals)\n",
        "print('Rounded Values :',rounded_vals)"
      ],
      "metadata": {
        "colab": {
          "base_uri": "https://localhost:8080/"
        },
        "id": "_44ZF4OP0UDv",
        "outputId": "fcca92ff-5d91-4937-954a-a0b58a6464bc"
      },
      "execution_count": 30,
      "outputs": [
        {
          "output_type": "stream",
          "name": "stdout",
          "text": [
            "Floor Values : [-2. -2. -1.  0.  1.  1.  3.]\n",
            "Ceil Values : [-1. -1. -0.  1.  2.  2.  3.]\n",
            "Trunc Values : [-1. -1. -0.  0.  1.  1.  3.]\n",
            "Rounded Values : [-2. -2. -0.  0.  2.  2.  3.]\n"
          ]
        }
      ]
    },
    {
      "cell_type": "markdown",
      "source": [
        "### Q3."
      ],
      "metadata": {
        "id": "rS0BKpPV1hv5"
      }
    },
    {
      "cell_type": "code",
      "source": [
        "# (a)\n",
        "array = np.array([10, 52, 62, 16, 16, 54, 453])\n",
        "sorted_array = np.sort(array)\n",
        "sorted_indices = np.argsort(array)\n",
        "smallest_4 = np.sort(array)[:4]\n",
        "largest_5 = np.sort(array)[-5:]\n",
        "print('Sorted Array :',sorted_array)\n",
        "print('Sorted Indices :',sorted_indices)\n",
        "print('Smallest 4 :',smallest_4)\n",
        "print('Largest 5 :',largest_5)"
      ],
      "metadata": {
        "colab": {
          "base_uri": "https://localhost:8080/"
        },
        "id": "BXLYIjrX1fjx",
        "outputId": "aa8826cf-5d2d-40ae-e11f-ff6ae9f1c294"
      },
      "execution_count": 31,
      "outputs": [
        {
          "output_type": "stream",
          "name": "stdout",
          "text": [
            "Sorted Array : [ 10  16  16  52  54  62 453]\n",
            "Sorted Indices : [0 3 4 1 5 2 6]\n",
            "Smallest 4 : [10 16 16 52]\n",
            "Largest 5 : [ 16  52  54  62 453]\n"
          ]
        }
      ]
    },
    {
      "cell_type": "code",
      "source": [
        "# (b)\n",
        "array2 = np.array([1.0, 1.2, 2.2, 2.0, 3.0, 2.0])\n",
        "integers = array2[array2 == array2.astype(int)]\n",
        "floats = array2[array2 != array2.astype(int)]\n",
        "print('Integers :',integers)\n",
        "print('Floats :',floats)"
      ],
      "metadata": {
        "colab": {
          "base_uri": "https://localhost:8080/"
        },
        "id": "gT532zet1o42",
        "outputId": "9cbd34f4-76c3-47b2-9c84-d4e1d20f34e8"
      },
      "execution_count": 32,
      "outputs": [
        {
          "output_type": "stream",
          "name": "stdout",
          "text": [
            "Integers : [1. 2. 3. 2.]\n",
            "Floats : [1.2 2.2]\n"
          ]
        }
      ]
    },
    {
      "cell_type": "markdown",
      "source": [
        "### Q4."
      ],
      "metadata": {
        "id": "fMxgaydx17Qv"
      }
    },
    {
      "cell_type": "code",
      "source": [
        "# (a)\n",
        "from PIL import Image\n",
        "import numpy as np\n",
        "\n",
        "# Create a 100x100 grayscale image with gradient\n",
        "gray_image = np.tile(np.arange(100, dtype=np.uint8), (100, 1))\n",
        "\n",
        "# Save image\n",
        "Image.fromarray(gray_image).save(\"sample_grayscale.png\")\n",
        "print(\"Saved grayscale image as sample_grayscale.png\")\n",
        "\n",
        "def img_to_array(path):\n",
        "    img = Image.open(path)\n",
        "    arr = np.array(img)\n",
        "\n",
        "    if len(arr.shape) == 2:\n",
        "        # Grayscale\n",
        "        np.savetxt(\"grayscale_image.txt\", arr, fmt='%d')\n",
        "        print(\"Saved: grayscale_image.txt\")\n",
        "    else:\n",
        "        # RGB\n",
        "        shape = arr.shape\n",
        "        np.savetxt(\"rgb_image.txt\", arr.reshape(-1, 3), fmt='%d')\n",
        "        with open(\"rgb_shape.txt\", \"w\") as f:\n",
        "            f.write(f\"{shape[0]} {shape[1]}\")\n",
        "        print(\"Saved: rgb_image.txt and rgb_shape.txt\")\n",
        "img_to_array(\"sample_grayscale.png\")\n",
        "\n",
        "\n",
        "# Create a 50x50 RGB image (random colors)\n",
        "rgb_image = np.random.randint(0, 256, (50, 50, 3), dtype=np.uint8)\n",
        "Image.fromarray(rgb_image).save(\"sample_rgb.png\")\n",
        "print(\"Saved RGB image as sample_rgb.png\")\n",
        "\n",
        "# Run function\n",
        "img_to_array(\"sample_rgb.png\")\n",
        "\n",
        "# Load RGB image from text\n",
        "with open(\"rgb_shape.txt\", \"r\") as f:\n",
        "    h, w = map(int, f.read().split())\n",
        "\n",
        "rgb_flat = np.loadtxt(\"rgb_image.txt\", dtype=int)"
      ],
      "metadata": {
        "colab": {
          "base_uri": "https://localhost:8080/"
        },
        "id": "EFJ17MIY1tdO",
        "outputId": "bc7fb09f-1108-4c38-d561-606f8d2a85ab"
      },
      "execution_count": 39,
      "outputs": [
        {
          "output_type": "stream",
          "name": "stdout",
          "text": [
            "Saved grayscale image as sample_grayscale.png\n",
            "Saved: grayscale_image.txt\n",
            "Saved RGB image as sample_rgb.png\n",
            "Saved: rgb_image.txt and rgb_shape.txt\n"
          ]
        }
      ]
    },
    {
      "cell_type": "code",
      "source": [
        "# (b)\n",
        "# For grayscale\n",
        "gray_loaded = np.loadtxt(\"grayscale_image.txt\", dtype=int)\n",
        "print(\"Loaded grayscale array shape:\", gray_loaded.shape)\n",
        "\n",
        "# For RGB (assuming shape known or previously stored)\n",
        "rgb_loaded = rgb_flat.reshape((h, w, 3))\n",
        "print(\"Loaded RGB array shape:\", rgb_loaded.shape)\n"
      ],
      "metadata": {
        "colab": {
          "base_uri": "https://localhost:8080/"
        },
        "id": "RJ9pkNUA19Ge",
        "outputId": "df9cbdfb-bd2e-48e5-9c5e-b03c9c6c7789"
      },
      "execution_count": 40,
      "outputs": [
        {
          "output_type": "stream",
          "name": "stdout",
          "text": [
            "Loaded grayscale array shape: (100, 100)\n",
            "Loaded RGB array shape: (50, 50, 3)\n"
          ]
        }
      ]
    }
  ]
}